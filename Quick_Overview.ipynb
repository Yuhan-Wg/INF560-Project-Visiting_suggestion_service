{
 "cells": [
  {
   "cell_type": "code",
   "execution_count": 15,
   "metadata": {
    "collapsed": true
   },
   "outputs": [],
   "source": [
    "import pandas as pd\n",
    "import numpy as np\n",
    "import matplotlib.pyplot as plt\n",
    "import os"
   ]
  },
  {
   "cell_type": "code",
   "execution_count": 2,
   "metadata": {
    "collapsed": true
   },
   "outputs": [],
   "source": [
    "# This notebook is a quick overview of the project and program executions on debugger dataset.\n",
    "# \n",
    "# "
   ]
  },
  {
   "cell_type": "markdown",
   "metadata": {},
   "source": [
    "### 1. Preprocessing"
   ]
  },
  {
   "cell_type": "code",
   "execution_count": 8,
   "metadata": {
    "collapsed": false
   },
   "outputs": [
    {
     "data": {
      "text/html": [
       "<div>\n",
       "<table border=\"1\" class=\"dataframe\">\n",
       "  <thead>\n",
       "    <tr style=\"text-align: right;\">\n",
       "      <th></th>\n",
       "      <th>Building</th>\n",
       "      <th>Level</th>\n",
       "      <th>ClientMacAddr</th>\n",
       "      <th>lat</th>\n",
       "      <th>lng</th>\n",
       "      <th>localtime</th>\n",
       "    </tr>\n",
       "  </thead>\n",
       "  <tbody>\n",
       "    <tr>\n",
       "      <th>0</th>\n",
       "      <td>Gallery</td>\n",
       "      <td>Level B1</td>\n",
       "      <td>88:ad:d2:05:4c:ad</td>\n",
       "      <td>1.290292</td>\n",
       "      <td>103.85153</td>\n",
       "      <td>2018-04-02 08:25:17 UTC</td>\n",
       "    </tr>\n",
       "    <tr>\n",
       "      <th>1</th>\n",
       "      <td>Gallery</td>\n",
       "      <td>Level 1</td>\n",
       "      <td>0a:ff:4c:7f:d9:18</td>\n",
       "      <td>1.290622</td>\n",
       "      <td>103.85198</td>\n",
       "      <td>2018-05-27 14:56:55 UTC</td>\n",
       "    </tr>\n",
       "    <tr>\n",
       "      <th>2</th>\n",
       "      <td>Gallery</td>\n",
       "      <td>Level 1</td>\n",
       "      <td>8e:ee:83:fe:17:5d</td>\n",
       "      <td>1.290574</td>\n",
       "      <td>103.85196</td>\n",
       "      <td>2018-06-10 15:20:03 UTC</td>\n",
       "    </tr>\n",
       "    <tr>\n",
       "      <th>3</th>\n",
       "      <td>Gallery</td>\n",
       "      <td>Level 1</td>\n",
       "      <td>5e:98:a5:8f:d3:4e</td>\n",
       "      <td>1.290368</td>\n",
       "      <td>103.85171</td>\n",
       "      <td>2018-06-12 15:37:55 UTC</td>\n",
       "    </tr>\n",
       "    <tr>\n",
       "      <th>4</th>\n",
       "      <td>Gallery</td>\n",
       "      <td>Level B1</td>\n",
       "      <td>da:3e:31:ae:16:d4</td>\n",
       "      <td>1.290177</td>\n",
       "      <td>103.85153</td>\n",
       "      <td>2018-06-13 12:53:09 UTC</td>\n",
       "    </tr>\n",
       "  </tbody>\n",
       "</table>\n",
       "</div>"
      ],
      "text/plain": [
       "  Building     Level      ClientMacAddr       lat        lng  \\\n",
       "0  Gallery  Level B1  88:ad:d2:05:4c:ad  1.290292  103.85153   \n",
       "1  Gallery   Level 1  0a:ff:4c:7f:d9:18  1.290622  103.85198   \n",
       "2  Gallery   Level 1  8e:ee:83:fe:17:5d  1.290574  103.85196   \n",
       "3  Gallery   Level 1  5e:98:a5:8f:d3:4e  1.290368  103.85171   \n",
       "4  Gallery  Level B1  da:3e:31:ae:16:d4  1.290177  103.85153   \n",
       "\n",
       "                 localtime  \n",
       "0  2018-04-02 08:25:17 UTC  \n",
       "1  2018-05-27 14:56:55 UTC  \n",
       "2  2018-06-10 15:20:03 UTC  \n",
       "3  2018-06-12 15:37:55 UTC  \n",
       "4  2018-06-13 12:53:09 UTC  "
      ]
     },
     "execution_count": 8,
     "metadata": {},
     "output_type": "execute_result"
    }
   ],
   "source": [
    "# Read debugger dataset into memory\n",
    "# Notice: the following program executions are based on debugger dataset\n",
    "#         which is about 1MB, much smaller than original dataset which is about 20GB\n",
    "df = pd.read_csv(\"input/debugger_origin.csv\")\n",
    "df.head()"
   ]
  },
  {
   "cell_type": "code",
   "execution_count": 9,
   "metadata": {
    "collapsed": false
   },
   "outputs": [
    {
     "data": {
      "text/html": [
       "<div>\n",
       "<table border=\"1\" class=\"dataframe\">\n",
       "  <thead>\n",
       "    <tr style=\"text-align: right;\">\n",
       "      <th></th>\n",
       "      <th>Building</th>\n",
       "      <th>Level</th>\n",
       "      <th>ClientMacAddr</th>\n",
       "      <th>lat</th>\n",
       "      <th>lng</th>\n",
       "      <th>localtime</th>\n",
       "    </tr>\n",
       "  </thead>\n",
       "  <tbody>\n",
       "    <tr>\n",
       "      <th>0</th>\n",
       "      <td>Gallery</td>\n",
       "      <td>0</td>\n",
       "      <td>150280134282413</td>\n",
       "      <td>1.290292</td>\n",
       "      <td>103.85153</td>\n",
       "      <td>2018-04-02 08:25:17</td>\n",
       "    </tr>\n",
       "    <tr>\n",
       "      <th>1</th>\n",
       "      <td>Gallery</td>\n",
       "      <td>1</td>\n",
       "      <td>12091616385304</td>\n",
       "      <td>1.290622</td>\n",
       "      <td>103.85198</td>\n",
       "      <td>2018-05-27 14:56:55</td>\n",
       "    </tr>\n",
       "    <tr>\n",
       "      <th>2</th>\n",
       "      <td>Gallery</td>\n",
       "      <td>1</td>\n",
       "      <td>157155067828061</td>\n",
       "      <td>1.290574</td>\n",
       "      <td>103.85196</td>\n",
       "      <td>2018-06-10 15:20:03</td>\n",
       "    </tr>\n",
       "    <tr>\n",
       "      <th>3</th>\n",
       "      <td>Gallery</td>\n",
       "      <td>1</td>\n",
       "      <td>104009705706318</td>\n",
       "      <td>1.290368</td>\n",
       "      <td>103.85171</td>\n",
       "      <td>2018-06-12 15:37:55</td>\n",
       "    </tr>\n",
       "    <tr>\n",
       "      <th>4</th>\n",
       "      <td>Gallery</td>\n",
       "      <td>0</td>\n",
       "      <td>239960656320212</td>\n",
       "      <td>1.290177</td>\n",
       "      <td>103.85153</td>\n",
       "      <td>2018-06-13 12:53:09</td>\n",
       "    </tr>\n",
       "  </tbody>\n",
       "</table>\n",
       "</div>"
      ],
      "text/plain": [
       "  Building  Level    ClientMacAddr       lat        lng           localtime\n",
       "0  Gallery      0  150280134282413  1.290292  103.85153 2018-04-02 08:25:17\n",
       "1  Gallery      1   12091616385304  1.290622  103.85198 2018-05-27 14:56:55\n",
       "2  Gallery      1  157155067828061  1.290574  103.85196 2018-06-10 15:20:03\n",
       "3  Gallery      1  104009705706318  1.290368  103.85171 2018-06-12 15:37:55\n",
       "4  Gallery      0  239960656320212  1.290177  103.85153 2018-06-13 12:53:09"
      ]
     },
     "execution_count": 9,
     "metadata": {},
     "output_type": "execute_result"
    }
   ],
   "source": [
    "# Reduce the cost of data\n",
    "# Refered file: src/prestep/reduce_cost.py\n",
    "#\n",
    "# In details: \n",
    "# ClientMacAddr: String-> Int, (since ClientMacAddr is encoded in 6 hex numbers like FF:FF:FF:FF:FF:FF\n",
    "#                Each takes 6*2*4 = 48 bits, smaller than 64bits for Int\n",
    "# localtime: String -> datetime, drop seconds which could contain too much variance\n",
    "# Level: String -> Int\n",
    "from src.prestep.reduce_cost import reduceCost\n",
    "reduceCost(df).head()"
   ]
  },
  {
   "cell_type": "code",
   "execution_count": 10,
   "metadata": {
    "collapsed": false
   },
   "outputs": [
    {
     "data": {
      "image/png": "[encoded data removed]",
      "text/plain": [
       "<matplotlib.figure.Figure at 0x11f7c5d30>"
      ]
     },
     "metadata": {},
     "output_type": "display_data"
    }
   ],
   "source": [
    "# Plot records of Level 0\n",
    "level = 0\n",
    "plt.scatter(df.loc[df.Level==level].lng, df.loc[df.Level==level].lat,s=2,alpha=0.5)\n",
    "plt.xlim([df.loc[df.Level==level].lng.min(),df.loc[df.Level==level].lng.max()])\n",
    "plt.ylim([df.loc[df.Level==level].lat.min(),df.loc[df.Level==level].lat.max()])\n",
    "plt.show()"
   ]
  },
  {
   "cell_type": "code",
   "execution_count": 11,
   "metadata": {
    "collapsed": false
   },
   "outputs": [
    {
     "data": {
      "text/html": [
       "<div>\n",
       "<table border=\"1\" class=\"dataframe\">\n",
       "  <thead>\n",
       "    <tr style=\"text-align: right;\">\n",
       "      <th></th>\n",
       "      <th>Building</th>\n",
       "      <th>Level</th>\n",
       "      <th>ClientMacAddr</th>\n",
       "      <th>localtime</th>\n",
       "      <th>lngBlock</th>\n",
       "      <th>latBlock</th>\n",
       "      <th>month</th>\n",
       "      <th>day</th>\n",
       "      <th>hour</th>\n",
       "      <th>minute</th>\n",
       "    </tr>\n",
       "  </thead>\n",
       "  <tbody>\n",
       "    <tr>\n",
       "      <th>0</th>\n",
       "      <td>Gallery</td>\n",
       "      <td>0</td>\n",
       "      <td>150280134282413</td>\n",
       "      <td>2018-04-02 08:25:17</td>\n",
       "      <td>22</td>\n",
       "      <td>32</td>\n",
       "      <td>4</td>\n",
       "      <td>2</td>\n",
       "      <td>8</td>\n",
       "      <td>25</td>\n",
       "    </tr>\n",
       "    <tr>\n",
       "      <th>1</th>\n",
       "      <td>Gallery</td>\n",
       "      <td>1</td>\n",
       "      <td>12091616385304</td>\n",
       "      <td>2018-05-27 14:56:55</td>\n",
       "      <td>38</td>\n",
       "      <td>9</td>\n",
       "      <td>5</td>\n",
       "      <td>27</td>\n",
       "      <td>14</td>\n",
       "      <td>56</td>\n",
       "    </tr>\n",
       "    <tr>\n",
       "      <th>2</th>\n",
       "      <td>Gallery</td>\n",
       "      <td>1</td>\n",
       "      <td>157155067828061</td>\n",
       "      <td>2018-06-10 15:20:03</td>\n",
       "      <td>37</td>\n",
       "      <td>8</td>\n",
       "      <td>6</td>\n",
       "      <td>10</td>\n",
       "      <td>15</td>\n",
       "      <td>20</td>\n",
       "    </tr>\n",
       "    <tr>\n",
       "      <th>3</th>\n",
       "      <td>Gallery</td>\n",
       "      <td>1</td>\n",
       "      <td>104009705706318</td>\n",
       "      <td>2018-06-12 15:37:55</td>\n",
       "      <td>29</td>\n",
       "      <td>12</td>\n",
       "      <td>6</td>\n",
       "      <td>12</td>\n",
       "      <td>15</td>\n",
       "      <td>37</td>\n",
       "    </tr>\n",
       "    <tr>\n",
       "      <th>4</th>\n",
       "      <td>Gallery</td>\n",
       "      <td>0</td>\n",
       "      <td>239960656320212</td>\n",
       "      <td>2018-06-13 12:53:09</td>\n",
       "      <td>19</td>\n",
       "      <td>25</td>\n",
       "      <td>6</td>\n",
       "      <td>13</td>\n",
       "      <td>12</td>\n",
       "      <td>53</td>\n",
       "    </tr>\n",
       "  </tbody>\n",
       "</table>\n",
       "</div>"
      ],
      "text/plain": [
       "  Building  Level    ClientMacAddr           localtime  lngBlock  latBlock  \\\n",
       "0  Gallery      0  150280134282413 2018-04-02 08:25:17        22        32   \n",
       "1  Gallery      1   12091616385304 2018-05-27 14:56:55        38         9   \n",
       "2  Gallery      1  157155067828061 2018-06-10 15:20:03        37         8   \n",
       "3  Gallery      1  104009705706318 2018-06-12 15:37:55        29        12   \n",
       "4  Gallery      0  239960656320212 2018-06-13 12:53:09        19        25   \n",
       "\n",
       "   month  day  hour  minute  \n",
       "0      4    2     8      25  \n",
       "1      5   27    14      56  \n",
       "2      6   10    15      20  \n",
       "3      6   12    15      37  \n",
       "4      6   13    12      53  "
      ]
     },
     "execution_count": 11,
     "metadata": {},
     "output_type": "execute_result"
    }
   ],
   "source": [
    "# Rotate axis (Change axis representation) and divide area to blocks\n",
    "# Refered file: src/prestep/divide_block.py\n",
    "#\n",
    "# This operation is to reduce number of empty blocks and\n",
    "# convert problem from infinite dimensions to finite dimensions.\n",
    "from src.prestep.divide_block import divideBlock\n",
    "divideBlock(df).head()"
   ]
  },
  {
   "cell_type": "code",
   "execution_count": 12,
   "metadata": {
    "collapsed": false
   },
   "outputs": [
    {
     "data": {
      "image/png": "[encoded data removed]",
      "text/plain": [
       "<matplotlib.figure.Figure at 0x11fced128>"
      ]
     },
     "metadata": {},
     "output_type": "display_data"
    }
   ],
   "source": [
    "# Plot records of Level 0 in blocks\n",
    "level=0\n",
    "plt.scatter(df.loc[df.Level==level].lngBlock, df.loc[df.Level==level].latBlock,s=2,alpha=0.5)\n",
    "plt.xlim([df.loc[df.Level==level].lngBlock.min(),df.loc[df.Level==level].lngBlock.max()])\n",
    "plt.ylim([df.loc[df.Level==level].latBlock.min(),df.loc[df.Level==level].latBlock.max()])\n",
    "plt.show()"
   ]
  },
  {
   "cell_type": "code",
   "execution_count": 13,
   "metadata": {
    "collapsed": false
   },
   "outputs": [
    {
     "data": {
      "text/html": [
       "<div>\n",
       "<table border=\"1\" class=\"dataframe\">\n",
       "  <thead>\n",
       "    <tr style=\"text-align: right;\">\n",
       "      <th></th>\n",
       "      <th>Level</th>\n",
       "      <th>latBlock</th>\n",
       "      <th>lngBlock</th>\n",
       "      <th>month</th>\n",
       "      <th>day</th>\n",
       "      <th>hour</th>\n",
       "      <th>quarter</th>\n",
       "      <th>count</th>\n",
       "    </tr>\n",
       "  </thead>\n",
       "  <tbody>\n",
       "    <tr>\n",
       "      <th>0</th>\n",
       "      <td>0</td>\n",
       "      <td>0</td>\n",
       "      <td>18</td>\n",
       "      <td>4</td>\n",
       "      <td>16</td>\n",
       "      <td>10</td>\n",
       "      <td>1</td>\n",
       "      <td>1</td>\n",
       "    </tr>\n",
       "    <tr>\n",
       "      <th>1</th>\n",
       "      <td>0</td>\n",
       "      <td>0</td>\n",
       "      <td>18</td>\n",
       "      <td>4</td>\n",
       "      <td>22</td>\n",
       "      <td>13</td>\n",
       "      <td>3</td>\n",
       "      <td>1</td>\n",
       "    </tr>\n",
       "    <tr>\n",
       "      <th>2</th>\n",
       "      <td>0</td>\n",
       "      <td>0</td>\n",
       "      <td>18</td>\n",
       "      <td>5</td>\n",
       "      <td>30</td>\n",
       "      <td>14</td>\n",
       "      <td>0</td>\n",
       "      <td>1</td>\n",
       "    </tr>\n",
       "    <tr>\n",
       "      <th>3</th>\n",
       "      <td>0</td>\n",
       "      <td>0</td>\n",
       "      <td>18</td>\n",
       "      <td>5</td>\n",
       "      <td>30</td>\n",
       "      <td>14</td>\n",
       "      <td>1</td>\n",
       "      <td>1</td>\n",
       "    </tr>\n",
       "    <tr>\n",
       "      <th>4</th>\n",
       "      <td>0</td>\n",
       "      <td>0</td>\n",
       "      <td>18</td>\n",
       "      <td>6</td>\n",
       "      <td>14</td>\n",
       "      <td>16</td>\n",
       "      <td>1</td>\n",
       "      <td>1</td>\n",
       "    </tr>\n",
       "  </tbody>\n",
       "</table>\n",
       "</div>"
      ],
      "text/plain": [
       "   Level  latBlock  lngBlock  month  day  hour  quarter  count\n",
       "0      0         0        18      4   16    10        1      1\n",
       "1      0         0        18      4   22    13        3      1\n",
       "2      0         0        18      5   30    14        0      1\n",
       "3      0         0        18      5   30    14        1      1\n",
       "4      0         0        18      6   14    16        1      1"
      ]
     },
     "execution_count": 13,
     "metadata": {},
     "output_type": "execute_result"
    }
   ],
   "source": [
    "# Count number of records in each block in each time period.\n",
    "# Refered file: src/prestep/assign_block.py\n",
    "#\n",
    "# Example: count number of records in block (10,15) during 13:00-13:15 on April 1st.\n",
    "# Transform minute -> quarter\n",
    "from src.prestep.assign_block import assignBlock\n",
    "df = assignBlock(df)\n",
    "df.head()"
   ]
  },
  {
   "cell_type": "code",
   "execution_count": 14,
   "metadata": {
    "collapsed": false
   },
   "outputs": [
    {
     "data": {
      "text/html": [
       "<div>\n",
       "<table border=\"1\" class=\"dataframe\">\n",
       "  <thead>\n",
       "    <tr style=\"text-align: right;\">\n",
       "      <th></th>\n",
       "      <th>Level</th>\n",
       "      <th>latBlock</th>\n",
       "      <th>lngBlock</th>\n",
       "      <th>month</th>\n",
       "      <th>day</th>\n",
       "      <th>hour</th>\n",
       "      <th>count</th>\n",
       "      <th>year</th>\n",
       "      <th>minute</th>\n",
       "      <th>dayofweek</th>\n",
       "      <th>...</th>\n",
       "      <th>Highest 120 Min Rainfall (mm)</th>\n",
       "      <th>Mean Temperature (∞C)</th>\n",
       "      <th>Maximum Temperature (∞C)</th>\n",
       "      <th>Minimum Temperature (∞C)</th>\n",
       "      <th>Mean Wind Speed (km/h)</th>\n",
       "      <th>Max Wind Speed (km/h)</th>\n",
       "      <th>eventFest</th>\n",
       "      <th>eventArt</th>\n",
       "      <th>eventinACM</th>\n",
       "      <th>eventinPSCS</th>\n",
       "    </tr>\n",
       "  </thead>\n",
       "  <tbody>\n",
       "    <tr>\n",
       "      <th>0</th>\n",
       "      <td>0</td>\n",
       "      <td>0</td>\n",
       "      <td>18</td>\n",
       "      <td>4</td>\n",
       "      <td>16</td>\n",
       "      <td>10</td>\n",
       "      <td>1</td>\n",
       "      <td>2018</td>\n",
       "      <td>15</td>\n",
       "      <td>0</td>\n",
       "      <td>...</td>\n",
       "      <td>4.475399</td>\n",
       "      <td>28.518345</td>\n",
       "      <td>32.368571</td>\n",
       "      <td>26.055</td>\n",
       "      <td>6.548726</td>\n",
       "      <td>27.582803</td>\n",
       "      <td>False</td>\n",
       "      <td>False</td>\n",
       "      <td>False</td>\n",
       "      <td>False</td>\n",
       "    </tr>\n",
       "    <tr>\n",
       "      <th>1</th>\n",
       "      <td>0</td>\n",
       "      <td>0</td>\n",
       "      <td>18</td>\n",
       "      <td>4</td>\n",
       "      <td>22</td>\n",
       "      <td>13</td>\n",
       "      <td>1</td>\n",
       "      <td>2018</td>\n",
       "      <td>45</td>\n",
       "      <td>6</td>\n",
       "      <td>...</td>\n",
       "      <td>0.000000</td>\n",
       "      <td>29.100000</td>\n",
       "      <td>33.500000</td>\n",
       "      <td>26.400</td>\n",
       "      <td>5.000000</td>\n",
       "      <td>23.000000</td>\n",
       "      <td>False</td>\n",
       "      <td>False</td>\n",
       "      <td>False</td>\n",
       "      <td>False</td>\n",
       "    </tr>\n",
       "    <tr>\n",
       "      <th>2</th>\n",
       "      <td>0</td>\n",
       "      <td>0</td>\n",
       "      <td>18</td>\n",
       "      <td>5</td>\n",
       "      <td>30</td>\n",
       "      <td>14</td>\n",
       "      <td>1</td>\n",
       "      <td>2018</td>\n",
       "      <td>0</td>\n",
       "      <td>2</td>\n",
       "      <td>...</td>\n",
       "      <td>4.475399</td>\n",
       "      <td>28.518345</td>\n",
       "      <td>32.368571</td>\n",
       "      <td>26.055</td>\n",
       "      <td>6.548726</td>\n",
       "      <td>27.582803</td>\n",
       "      <td>False</td>\n",
       "      <td>True</td>\n",
       "      <td>False</td>\n",
       "      <td>False</td>\n",
       "    </tr>\n",
       "    <tr>\n",
       "      <th>3</th>\n",
       "      <td>0</td>\n",
       "      <td>0</td>\n",
       "      <td>18</td>\n",
       "      <td>5</td>\n",
       "      <td>30</td>\n",
       "      <td>14</td>\n",
       "      <td>1</td>\n",
       "      <td>2018</td>\n",
       "      <td>15</td>\n",
       "      <td>2</td>\n",
       "      <td>...</td>\n",
       "      <td>4.475399</td>\n",
       "      <td>28.518345</td>\n",
       "      <td>32.368571</td>\n",
       "      <td>26.055</td>\n",
       "      <td>6.548726</td>\n",
       "      <td>27.582803</td>\n",
       "      <td>False</td>\n",
       "      <td>True</td>\n",
       "      <td>False</td>\n",
       "      <td>False</td>\n",
       "    </tr>\n",
       "    <tr>\n",
       "      <th>4</th>\n",
       "      <td>0</td>\n",
       "      <td>0</td>\n",
       "      <td>18</td>\n",
       "      <td>6</td>\n",
       "      <td>14</td>\n",
       "      <td>16</td>\n",
       "      <td>1</td>\n",
       "      <td>2018</td>\n",
       "      <td>15</td>\n",
       "      <td>3</td>\n",
       "      <td>...</td>\n",
       "      <td>0.000000</td>\n",
       "      <td>29.700000</td>\n",
       "      <td>32.800000</td>\n",
       "      <td>28.000</td>\n",
       "      <td>4.300000</td>\n",
       "      <td>19.100000</td>\n",
       "      <td>True</td>\n",
       "      <td>True</td>\n",
       "      <td>False</td>\n",
       "      <td>False</td>\n",
       "    </tr>\n",
       "  </tbody>\n",
       "</table>\n",
       "<p>5 rows × 24 columns</p>\n",
       "</div>"
      ],
      "text/plain": [
       "   Level  latBlock  lngBlock  month  day  hour  count  year  minute  \\\n",
       "0      0         0        18      4   16    10      1  2018      15   \n",
       "1      0         0        18      4   22    13      1  2018      45   \n",
       "2      0         0        18      5   30    14      1  2018       0   \n",
       "3      0         0        18      5   30    14      1  2018      15   \n",
       "4      0         0        18      6   14    16      1  2018      15   \n",
       "\n",
       "   dayofweek     ...      Highest 120 Min Rainfall (mm)  \\\n",
       "0          0     ...                           4.475399   \n",
       "1          6     ...                           0.000000   \n",
       "2          2     ...                           4.475399   \n",
       "3          2     ...                           4.475399   \n",
       "4          3     ...                           0.000000   \n",
       "\n",
       "   Mean Temperature (∞C)  Maximum Temperature (∞C)  Minimum Temperature (∞C)  \\\n",
       "0              28.518345                 32.368571                    26.055   \n",
       "1              29.100000                 33.500000                    26.400   \n",
       "2              28.518345                 32.368571                    26.055   \n",
       "3              28.518345                 32.368571                    26.055   \n",
       "4              29.700000                 32.800000                    28.000   \n",
       "\n",
       "   Mean Wind Speed (km/h)  Max Wind Speed (km/h)  eventFest  eventArt  \\\n",
       "0                6.548726              27.582803      False     False   \n",
       "1                5.000000              23.000000      False     False   \n",
       "2                6.548726              27.582803      False      True   \n",
       "3                6.548726              27.582803      False      True   \n",
       "4                4.300000              19.100000       True      True   \n",
       "\n",
       "   eventinACM  eventinPSCS  \n",
       "0       False        False  \n",
       "1       False        False  \n",
       "2       False        False  \n",
       "3       False        False  \n",
       "4       False        False  \n",
       "\n",
       "[5 rows x 24 columns]"
      ]
     },
     "execution_count": 14,
     "metadata": {},
     "output_type": "execute_result"
    }
   ],
   "source": [
    "# Extend dataset with external information about date\n",
    "# Refered file: src/prestep/datetime_extension.py\n",
    "#\n",
    "#\n",
    "# Information about events in galleray and its neighbors are collected\n",
    "# Information about weather are collected\n",
    "# Extend dates with holidays and weekdays\n",
    "from src.prestep.datetime_extension import timedate_process\n",
    "df = timedate_process(df)\n",
    "df.head()"
   ]
  },
  {
   "cell_type": "markdown",
   "metadata": {},
   "source": [
    "### 2. Model"
   ]
  },
  {
   "cell_type": "code",
   "execution_count": 16,
   "metadata": {
    "collapsed": false
   },
   "outputs": [
    {
     "name": "stdout",
     "output_type": "stream",
     "text": [
      "feature shape: (3245, 50, 39)\n",
      "label shape: (3245, 50, 39)\n"
     ]
    }
   ],
   "source": [
    "# Transform input format to fit the cnn model\n",
    "# Refered file: src/model/produce_matrix.py\n",
    "from src.model.produce_matrix import matrixTrans\n",
    "featuresLevel0,labelsLevel0 = matrixTrans(df, 0)\n",
    "print(\"feature shape:\", featuresLevel0.shape)\n",
    "print(\"label shape:\", featuresLevel0.shape)"
   ]
  },
  {
   "cell_type": "markdown",
   "metadata": {},
   "source": [
    "### Result from CNN model\n",
    "![](img/train_CNN.png)"
   ]
  },
  {
   "cell_type": "code",
   "execution_count": null,
   "metadata": {
    "collapsed": true
   },
   "outputs": [],
   "source": [
    "# Best iteration is 3400\n",
    "# Best RMSE on validation set is 13.8\n",
    "# RMSE on train set is 17.2\n",
    "# (Target is: RMSE on validation data <15)\n",
    "# Reach our target!"
   ]
  },
  {
   "cell_type": "code",
   "execution_count": null,
   "metadata": {
    "collapsed": true
   },
   "outputs": [],
   "source": []
  }
 ],
 "metadata": {
  "kernelspec": {
   "display_name": "Python 3",
   "language": "python",
   "name": "python3"
  },
  "language_info": {
   "codemirror_mode": {
    "name": "ipython",
    "version": 3
   },
   "file_extension": ".py",
   "mimetype": "text/x-python",
   "name": "python",
   "nbconvert_exporter": "python",
   "pygments_lexer": "ipython3",
   "version": "3.6.0"
  }
 },
 "nbformat": 4,
 "nbformat_minor": 2
}
