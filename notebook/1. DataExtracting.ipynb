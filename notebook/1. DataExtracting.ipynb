{
 "cells": [
  {
   "cell_type": "code",
   "execution_count": 2,
   "metadata": {},
   "outputs": [],
   "source": [
    "from read_data import read_csv\n",
    "import pandas as pd\n",
    "import numpy as np\n",
    "import matplotlib.pyplot as plt"
   ]
  },
  {
   "cell_type": "code",
   "execution_count": 2,
   "metadata": {},
   "outputs": [],
   "source": [
    "df = read_csv('../input/reduced_data.csv')"
   ]
  },
  {
   "cell_type": "code",
   "execution_count": 3,
   "metadata": {},
   "outputs": [
    {
     "data": {
      "text/html": [
       "<div>\n",
       "<style scoped>\n",
       "    .dataframe tbody tr th:only-of-type {\n",
       "        vertical-align: middle;\n",
       "    }\n",
       "\n",
       "    .dataframe tbody tr th {\n",
       "        vertical-align: top;\n",
       "    }\n",
       "\n",
       "    .dataframe thead th {\n",
       "        text-align: right;\n",
       "    }\n",
       "</style>\n",
       "<table border=\"1\" class=\"dataframe\">\n",
       "  <thead>\n",
       "    <tr style=\"text-align: right;\">\n",
       "      <th></th>\n",
       "      <th>ClientMacAddr</th>\n",
       "      <th>Level</th>\n",
       "      <th>lat</th>\n",
       "      <th>lng</th>\n",
       "      <th>localtime</th>\n",
       "    </tr>\n",
       "  </thead>\n",
       "  <tbody>\n",
       "    <tr>\n",
       "      <th>0</th>\n",
       "      <td>62668778773016</td>\n",
       "      <td>5</td>\n",
       "      <td>1.291016</td>\n",
       "      <td>103.875</td>\n",
       "      <td>2018-07-31 18:20:29</td>\n",
       "    </tr>\n",
       "    <tr>\n",
       "      <th>1</th>\n",
       "      <td>62668778810659</td>\n",
       "      <td>5</td>\n",
       "      <td>1.291016</td>\n",
       "      <td>103.875</td>\n",
       "      <td>2018-07-31 13:42:08</td>\n",
       "    </tr>\n",
       "    <tr>\n",
       "      <th>2</th>\n",
       "      <td>62668778810659</td>\n",
       "      <td>5</td>\n",
       "      <td>1.291016</td>\n",
       "      <td>103.875</td>\n",
       "      <td>2018-07-31 14:58:17</td>\n",
       "    </tr>\n",
       "    <tr>\n",
       "      <th>3</th>\n",
       "      <td>62668778810963</td>\n",
       "      <td>5</td>\n",
       "      <td>1.291016</td>\n",
       "      <td>103.875</td>\n",
       "      <td>2018-07-31 17:44:47</td>\n",
       "    </tr>\n",
       "    <tr>\n",
       "      <th>4</th>\n",
       "      <td>62668778812803</td>\n",
       "      <td>5</td>\n",
       "      <td>1.291016</td>\n",
       "      <td>103.875</td>\n",
       "      <td>2018-07-31 13:26:17</td>\n",
       "    </tr>\n",
       "  </tbody>\n",
       "</table>\n",
       "</div>"
      ],
      "text/plain": [
       "    ClientMacAddr  Level       lat      lng           localtime\n",
       "0  62668778773016      5  1.291016  103.875 2018-07-31 18:20:29\n",
       "1  62668778810659      5  1.291016  103.875 2018-07-31 13:42:08\n",
       "2  62668778810659      5  1.291016  103.875 2018-07-31 14:58:17\n",
       "3  62668778810963      5  1.291016  103.875 2018-07-31 17:44:47\n",
       "4  62668778812803      5  1.291016  103.875 2018-07-31 13:26:17"
      ]
     },
     "execution_count": 3,
     "metadata": {},
     "output_type": "execute_result"
    }
   ],
   "source": [
    "df.head()"
   ]
  },
  {
   "cell_type": "code",
   "execution_count": 4,
   "metadata": {},
   "outputs": [
    {
     "name": "stdout",
     "output_type": "stream",
     "text": [
      "<class 'pandas.core.frame.DataFrame'>\n",
      "RangeIndex: 260068750 entries, 0 to 260068749\n",
      "Data columns (total 5 columns):\n",
      "ClientMacAddr    int64\n",
      "Level            int8\n",
      "lat              float16\n",
      "lng              float16\n",
      "localtime        datetime64[ns]\n",
      "dtypes: datetime64[ns](1), float16(2), int64(1), int8(1)\n",
      "memory usage: 5.1 GB\n"
     ]
    }
   ],
   "source": [
    "df.info(memory_usage='deep')"
   ]
  },
  {
   "cell_type": "code",
   "execution_count": 8,
   "metadata": {},
   "outputs": [
    {
     "data": {
      "text/html": [
       "<div>\n",
       "<style scoped>\n",
       "    .dataframe tbody tr th:only-of-type {\n",
       "        vertical-align: middle;\n",
       "    }\n",
       "\n",
       "    .dataframe tbody tr th {\n",
       "        vertical-align: top;\n",
       "    }\n",
       "\n",
       "    .dataframe thead th {\n",
       "        text-align: right;\n",
       "    }\n",
       "</style>\n",
       "<table border=\"1\" class=\"dataframe\">\n",
       "  <thead>\n",
       "    <tr style=\"text-align: right;\">\n",
       "      <th></th>\n",
       "      <th>ClientMacAddr</th>\n",
       "      <th>Level</th>\n",
       "      <th>lat</th>\n",
       "      <th>lng</th>\n",
       "    </tr>\n",
       "  </thead>\n",
       "  <tbody>\n",
       "    <tr>\n",
       "      <th>count</th>\n",
       "      <td>2.600688e+08</td>\n",
       "      <td>2.600688e+08</td>\n",
       "      <td>2.600688e+08</td>\n",
       "      <td>2.600688e+08</td>\n",
       "    </tr>\n",
       "    <tr>\n",
       "      <th>mean</th>\n",
       "      <td>1.409022e+14</td>\n",
       "      <td>7.855113e-01</td>\n",
       "      <td>NaN</td>\n",
       "      <td>NaN</td>\n",
       "    </tr>\n",
       "    <tr>\n",
       "      <th>std</th>\n",
       "      <td>8.560413e+13</td>\n",
       "      <td>7.740236e-01</td>\n",
       "      <td>0.000000e+00</td>\n",
       "      <td>0.000000e+00</td>\n",
       "    </tr>\n",
       "    <tr>\n",
       "      <th>min</th>\n",
       "      <td>0.000000e+00</td>\n",
       "      <td>0.000000e+00</td>\n",
       "      <td>1.290039e+00</td>\n",
       "      <td>1.038750e+02</td>\n",
       "    </tr>\n",
       "    <tr>\n",
       "      <th>25%</th>\n",
       "      <td>6.266878e+13</td>\n",
       "      <td>0.000000e+00</td>\n",
       "      <td>1.290039e+00</td>\n",
       "      <td>1.038750e+02</td>\n",
       "    </tr>\n",
       "    <tr>\n",
       "      <th>50%</th>\n",
       "      <td>1.439795e+14</td>\n",
       "      <td>1.000000e+00</td>\n",
       "      <td>1.290039e+00</td>\n",
       "      <td>1.038750e+02</td>\n",
       "    </tr>\n",
       "    <tr>\n",
       "      <th>75%</th>\n",
       "      <td>2.223577e+14</td>\n",
       "      <td>1.000000e+00</td>\n",
       "      <td>1.291016e+00</td>\n",
       "      <td>1.038750e+02</td>\n",
       "    </tr>\n",
       "    <tr>\n",
       "      <th>max</th>\n",
       "      <td>2.803755e+14</td>\n",
       "      <td>5.000000e+00</td>\n",
       "      <td>1.291016e+00</td>\n",
       "      <td>1.038750e+02</td>\n",
       "    </tr>\n",
       "  </tbody>\n",
       "</table>\n",
       "</div>"
      ],
      "text/plain": [
       "       ClientMacAddr         Level           lat           lng\n",
       "count   2.600688e+08  2.600688e+08  2.600688e+08  2.600688e+08\n",
       "mean    1.409022e+14  7.855113e-01           NaN           NaN\n",
       "std     8.560413e+13  7.740236e-01  0.000000e+00  0.000000e+00\n",
       "min     0.000000e+00  0.000000e+00  1.290039e+00  1.038750e+02\n",
       "25%     6.266878e+13  0.000000e+00  1.290039e+00  1.038750e+02\n",
       "50%     1.439795e+14  1.000000e+00  1.290039e+00  1.038750e+02\n",
       "75%     2.223577e+14  1.000000e+00  1.291016e+00  1.038750e+02\n",
       "max     2.803755e+14  5.000000e+00  1.291016e+00  1.038750e+02"
      ]
     },
     "execution_count": 8,
     "metadata": {},
     "output_type": "execute_result"
    }
   ],
   "source": [
    "df.describe()"
   ]
  },
  {
   "cell_type": "code",
   "execution_count": 24,
   "metadata": {},
   "outputs": [
    {
     "name": "stdout",
     "output_type": "stream",
     "text": [
      "start: 2018-04-01 08:01:17\n",
      "to   : 2018-07-31 23:58:49\n"
     ]
    }
   ],
   "source": [
    "print(\"start:\", df.localtime.min())\n",
    "print(\"to   :\", df.localtime.max())"
   ]
  },
  {
   "cell_type": "code",
   "execution_count": 88,
   "metadata": {},
   "outputs": [],
   "source": [
    "cache = df[(df['localtime'].dt.month==4)&\n",
    "           (df['localtime'].dt.day==1)&\n",
    "          (df['Level']==5)]"
   ]
  },
  {
   "cell_type": "code",
   "execution_count": 89,
   "metadata": {},
   "outputs": [
    {
     "data": {
      "text/plain": [
       "(48355, 5)"
      ]
     },
     "execution_count": 89,
     "metadata": {},
     "output_type": "execute_result"
    }
   ],
   "source": [
    "cache.shape"
   ]
  },
  {
   "cell_type": "code",
   "execution_count": 33,
   "metadata": {},
   "outputs": [],
   "source": [
    "df['dayofyear'] = df.localtime.dt.dayofyear"
   ]
  },
  {
   "cell_type": "code",
   "execution_count": 34,
   "metadata": {},
   "outputs": [],
   "source": [
    "group = df.groupby(['dayofyear']).agg({'dayofyear':'size'})\n"
   ]
  },
  {
   "cell_type": "code",
   "execution_count": 70,
   "metadata": {},
   "outputs": [
    {
     "data": {
      "image/png": "[encoded data removed]",
      "text/plain": [
       "<Figure size 720x432 with 1 Axes>"
      ]
     },
     "metadata": {
      "needs_background": "light"
     },
     "output_type": "display_data"
    }
   ],
   "source": [
    "plt.figure(figsize=(10,6))\n",
    "plt.bar(group.index, group['size'])\n",
    "plt.show()"
   ]
  },
  {
   "cell_type": "code",
   "execution_count": 71,
   "metadata": {},
   "outputs": [],
   "source": [
    "%%time\n",
    "df = pd.read_csv('../input/Merged_Input.csv',usecols=['lat','lng'])"
   ]
  },
  {
   "cell_type": "code",
   "execution_count": null,
   "metadata": {},
   "outputs": [],
   "source": [
    "col_dtypes = {\n",
    "\"Level\":'int8',\n",
    "\"ClientMacAddr\":'int64',\n",
    "\"lat\":'float64',\n",
    "\"lng\":'float64'\n",
    "}\n",
    "df2 = pd.read_csv('../input/reduced_data.csv',dtype=col_dtypes,usecols=['Level','ClientMacAddr','localtime'],\n",
    "                 parse_dates=['localtime'],infer_datetime_format=True)"
   ]
  },
  {
   "cell_type": "code",
   "execution_count": null,
   "metadata": {},
   "outputs": [],
   "source": []
  },
  {
   "cell_type": "code",
   "execution_count": null,
   "metadata": {},
   "outputs": [],
   "source": []
  },
  {
   "cell_type": "code",
   "execution_count": null,
   "metadata": {
    "scrolled": true
   },
   "outputs": [],
   "source": []
  },
  {
   "cell_type": "code",
   "execution_count": 2,
   "metadata": {
    "scrolled": true
   },
   "outputs": [
    {
     "name": "stdout",
     "output_type": "stream",
     "text": [
      "CPU times: user 4min 7s, sys: 39.9 s, total: 4min 47s\n",
      "Wall time: 7min 1s\n"
     ]
    }
   ],
   "source": [
    "%%time\n",
    "df = pd.read_csv('../input/origin_input.csv',dtype={\n",
    "    \"Level\":'int8',\n",
    "    \"ClientMacAddr\":'int64',\n",
    "    \"lat\":'float64',\n",
    "    \"lng\":'float64'\n",
    "    },parse_dates=['localtime'],infer_datetime_format=True)"
   ]
  },
  {
   "cell_type": "code",
   "execution_count": 3,
   "metadata": {},
   "outputs": [
    {
     "name": "stdout",
     "output_type": "stream",
     "text": [
      "<class 'pandas.core.frame.DataFrame'>\n",
      "RangeIndex: 260068750 entries, 0 to 260068749\n",
      "Data columns (total 5 columns):\n",
      "ClientMacAddr    int64\n",
      "Level            int8\n",
      "localtime        datetime64[ns]\n",
      "lat              float64\n",
      "lng              float64\n",
      "dtypes: datetime64[ns](1), float64(2), int64(1), int8(1)\n",
      "memory usage: 8.0 GB\n"
     ]
    }
   ],
   "source": [
    "df.info(memory_usage='deep')"
   ]
  },
  {
   "cell_type": "code",
   "execution_count": 116,
   "metadata": {},
   "outputs": [
    {
     "data": {
      "text/plain": [
       "Index                    80\n",
       "ClientMacAddr    2080550000\n",
       "Level             260068750\n",
       "localtime        2080550000\n",
       "lat              2080550000\n",
       "lng              2080550000\n",
       "dtype: int64"
      ]
     },
     "execution_count": 116,
     "metadata": {},
     "output_type": "execute_result"
    }
   ],
   "source": [
    "df.memory_usage(deep=True)"
   ]
  },
  {
   "cell_type": "code",
   "execution_count": 5,
   "metadata": {},
   "outputs": [],
   "source": [
    "group = df.groupby('ClientMacAddr').agg('size')"
   ]
  },
  {
   "cell_type": "code",
   "execution_count": 23,
   "metadata": {},
   "outputs": [
    {
     "data": {
      "image/png": "[encoded data removed]",
      "text/plain": [
       "<Figure size 432x288 with 1 Axes>"
      ]
     },
     "metadata": {
      "needs_background": "light"
     },
     "output_type": "display_data"
    }
   ],
   "source": [
    "plt.plot(sorted(list(map(lambda x:np.log10(x), filter(lambda x:x>1, group))),reverse=True))\n",
    "plt.show()"
   ]
  },
  {
   "cell_type": "code",
   "execution_count": 30,
   "metadata": {},
   "outputs": [
    {
     "data": {
      "text/plain": [
       "9586251"
      ]
     },
     "execution_count": 30,
     "metadata": {},
     "output_type": "execute_result"
    }
   ],
   "source": [
    "len(group)"
   ]
  },
  {
   "cell_type": "code",
   "execution_count": 32,
   "metadata": {},
   "outputs": [
    {
     "data": {
      "text/plain": [
       "464717"
      ]
     },
     "execution_count": 32,
     "metadata": {},
     "output_type": "execute_result"
    }
   ],
   "source": [
    "len(list(filter(lambda x:x>27, sorted(group))))"
   ]
  },
  {
   "cell_type": "code",
   "execution_count": 33,
   "metadata": {},
   "outputs": [
    {
     "data": {
      "text/plain": [
       "192211"
      ]
     },
     "execution_count": 33,
     "metadata": {},
     "output_type": "execute_result"
    }
   ],
   "source": [
    "len(list(filter(lambda x:x>54, sorted(group))))"
   ]
  },
  {
   "cell_type": "code",
   "execution_count": 34,
   "metadata": {},
   "outputs": [
    {
     "data": {
      "text/plain": [
       "27.1293491063399"
      ]
     },
     "execution_count": 34,
     "metadata": {},
     "output_type": "execute_result"
    }
   ],
   "source": [
    "group.mean()"
   ]
  },
  {
   "cell_type": "code",
   "execution_count": 35,
   "metadata": {},
   "outputs": [
    {
     "data": {
      "text/plain": [
       "1251.627927798567"
      ]
     },
     "execution_count": 35,
     "metadata": {},
     "output_type": "execute_result"
    }
   ],
   "source": [
    "group.std()"
   ]
  },
  {
   "cell_type": "code",
   "execution_count": 31,
   "metadata": {
    "scrolled": true
   },
   "outputs": [
    {
     "name": "stdout",
     "output_type": "stream",
     "text": [
      "CPU times: user 19 s, sys: 376 ms, total: 19.4 s\n",
      "Wall time: 18.2 s\n"
     ]
    }
   ],
   "source": [
    "%%time\n",
    "df = read_csv('test2.csv')"
   ]
  },
  {
   "cell_type": "code",
   "execution_count": null,
   "metadata": {},
   "outputs": [],
   "source": []
  },
  {
   "cell_type": "code",
   "execution_count": null,
   "metadata": {},
   "outputs": [],
   "source": []
  },
  {
   "cell_type": "code",
   "execution_count": null,
   "metadata": {},
   "outputs": [],
   "source": []
  },
  {
   "cell_type": "code",
   "execution_count": null,
   "metadata": {},
   "outputs": [],
   "source": []
  },
  {
   "cell_type": "code",
   "execution_count": null,
   "metadata": {},
   "outputs": [],
   "source": []
  }
 ],
 "metadata": {
  "kernelspec": {
   "display_name": "Python 3",
   "language": "python",
   "name": "python3"
  },
  "language_info": {
   "codemirror_mode": {
    "name": "ipython",
    "version": 3
   },
   "file_extension": ".py",
   "mimetype": "text/x-python",
   "name": "python",
   "nbconvert_exporter": "python",
   "pygments_lexer": "ipython3",
   "version": "3.7.1"
  }
 },
 "nbformat": 4,
 "nbformat_minor": 2
}
